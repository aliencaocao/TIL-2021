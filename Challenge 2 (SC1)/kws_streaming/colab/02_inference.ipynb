{
 "nbformat": 4,
 "nbformat_minor": 0,
 "metadata": {
  "colab": {
   "name": "02_inference.ipynb",
   "provenance": [],
   "collapsed_sections": []
  },
  "kernelspec": {
   "display_name": "Python 3",
   "language": "python",
   "name": "python3"
  },
  "language_info": {
   "codemirror_mode": {
    "name": "ipython",
    "version": 3
   },
   "file_extension": ".py",
   "mimetype": "text/x-python",
   "name": "python",
   "nbconvert_exporter": "python",
   "pygments_lexer": "ipython3",
   "version": "3.6.9"
  }
 },
 "cells": [
  {
   "cell_type": "markdown",
   "metadata": {
    "colab_type": "text",
    "id": "OXYgXFeMgRep"
   },
   "source": [
    "Copyright 2019 Google LLC\n",
    "\n",
    "Licensed under the Apache License, Version 2.0 (the \"License\");\n",
    "you may not use this file except in compliance with the License.\n",
    "You may obtain a copy of the License at\n",
    "\n",
    "    https://www.apache.org/licenses/LICENSE-2.0\n",
    "\n",
    "Unless required by applicable law or agreed to in writing, software\n",
    "distributed under the License is distributed on an \"AS IS\" BASIS,\n",
    "WITHOUT WARRANTIES OR CONDITIONS OF ANY KIND, either express or implied.\n",
    "See the License for the specific language governing permissions and\n",
    "limitations under the License."
   ]
  },
  {
   "cell_type": "code",
   "metadata": {
    "colab_type": "code",
    "id": "NcIzzCADklYm",
    "colab": {}
   },
   "source": [
    "!git clone https://github.com/google-research/google-research.git"
   ],
   "execution_count": null,
   "outputs": []
  },
  {
   "cell_type": "code",
   "metadata": {
    "colab_type": "code",
    "id": "ngihcW7ckrDI",
    "colab": {}
   },
   "source": [
    "import sys\n",
    "import os\n",
    "import tarfile\n",
    "import urllib\n",
    "import zipfile\n",
    "\n",
    "# sys.path.append('./google-research')"
   ],
   "execution_count": 1,
   "outputs": []
  },
  {
   "cell_type": "markdown",
   "metadata": {
    "colab_type": "text",
    "id": "Y55h79H3XKSt"
   },
   "source": [
    "# Examples of streaming and non streaming inference with TF/TFlite"
   ]
  },
  {
   "cell_type": "markdown",
   "metadata": {
    "colab_type": "text",
    "id": "fathHzuEgx8_"
   },
   "source": [
    "## Imports"
   ]
  },
  {
   "cell_type": "code",
   "metadata": {
    "colab_type": "code",
    "id": "yP5WBy5O8Za8",
    "colab": {}
   },
   "source": [
    "# TF streaming\n",
    "from kws_streaming.models import models\n",
    "from kws_streaming.models import utils\n",
    "from kws_streaming.layers.modes import Modes\n",
    "import tensorflow as tf\n",
    "import numpy as np\n",
    "import tensorflow.compat.v1 as tf1\n",
    "import logging\n",
    "from kws_streaming.models import model_flags\n",
    "from kws_streaming.models import model_params\n",
    "from kws_streaming.train import test\n",
    "from kws_streaming import data\n",
    "\n",
    "config = tf1.ConfigProto()\n",
    "config.gpu_options.allow_growth = True\n",
    "sess = tf1.Session(config=config)\n",
    "\n",
    "# general imports\n",
    "import matplotlib.pyplot as plt\n",
    "import os\n",
    "import json\n",
    "from IPython import display\n",
    "import numpy as np\n",
    "import scipy as scipy\n",
    "import scipy.io.wavfile as wav\n",
    "import scipy.signal\n",
    "import tensorflow_io as tfio\n",
    "tf1.disable_eager_execution()\n",
    "\n",
    "tf.__version__\n",
    "\n",
    "tf1.reset_default_graph()\n",
    "sess = tf1.Session()\n",
    "tf1.keras.backend.set_session(sess)\n",
    "tf1.keras.backend.set_learning_phase(0)"
   ],
   "execution_count": 3,
   "outputs": []
  },
  {
   "cell_type": "markdown",
   "metadata": {
    "colab_type": "text",
    "id": "ylPGCTPLh41F"
   },
   "source": [
    "## Load wav file"
   ]
  },
  {
   "cell_type": "code",
   "metadata": {
    "colab_type": "code",
    "id": "b8Bvq7XacsOu",
    "colab": {}
   },
   "source": [
    "def waveread_as_pcm16(filename):\n",
    "  \"\"\"Read in audio data from a wav file.  Return d, sr.\"\"\"\n",
    "  with tf.io.gfile.GFile(filename, 'rb') as file_handle:\n",
    "    samplerate, wave_data = wav.read(file_handle)\n",
    "  # Read in wav file.\n",
    "  return wave_data, samplerate\n",
    "\n",
    "def wavread_as_float(filename, target_sample_rate=16000):\n",
    "  \"\"\"Read in audio data from a wav file.  Return d, sr.\"\"\"\n",
    "  wave_data, samplerate = waveread_as_pcm16(filename)\n",
    "  desired_length = int(\n",
    "      round(float(len(wave_data)) / samplerate * target_sample_rate))\n",
    "  wave_data = scipy.signal.resample(wave_data, desired_length)\n",
    "\n",
    "  # Normalize short ints to floats in range [-1..1).\n",
    "  data = np.array(wave_data, np.float32) / 32768.0\n",
    "  return data, target_sample_rate"
   ],
   "execution_count": 4,
   "outputs": []
  },
  {
   "cell_type": "code",
   "metadata": {
    "id": "e6MDIFztU7Lp",
    "colab_type": "code",
    "colab": {}
   },
   "source": [
    "# set PATH to data sets (for example to speech commands V2):\n",
    "# it can be downloaded from\n",
    "# https://storage.googleapis.com/download.tensorflow.org/data/speech_commands_v0.02.tar.gz\n",
    "# if you run 00_check-data.ipynb then data2 should be located in the current folder\n",
    "current_dir = 'C:/Users/alien/Documents/PyCharm-Projects/keyword-transformer/'\n",
    "DATA_PATH = os.path.join(current_dir, \"data2/\")"
   ],
   "execution_count": 5,
   "outputs": []
  },
  {
   "cell_type": "code",
   "metadata": {
    "colab_type": "code",
    "id": "TYj0JGeHhtqc",
    "colab": {}
   },
   "source": [
    "samplerate = 16000\n",
    "# read audio file\n",
    "audio, _ = tf.audio.decode_wav(tf.io.read_file('C:/Users/alien/Documents/PyCharm-Projects/keyword-transformer/s1_test_release/s1_test_0000.wav'))\n",
    "waveform = tf.squeeze(audio, axis=-1)\n"
   ],
   "execution_count": 6,
   "outputs": []
  },
  {
   "cell_type": "code",
   "metadata": {
    "colab_type": "code",
    "id": "U7VYKfWoh_3-",
    "colab": {}
   },
   "source": [
    "# for simple test instead of reading wav - just generate cos\n",
    "# samplerate = 16000\n",
    "# wav_data = np.cos(2.0*np.pi*8.0*np.arange(samplerate)/samplerate)"
   ],
   "execution_count": null,
   "outputs": []
  },
  {
   "cell_type": "code",
   "metadata": {
    "colab_type": "code",
    "id": "jNiuJTvXiF1J",
    "colab": {}
   },
   "source": [
    "#assert samplerate == 16000\n",
    "#sound.Play(wav_data, samplerate)"
   ],
   "execution_count": null,
   "outputs": []
  },
  {
   "cell_type": "code",
   "metadata": {
    "colab_type": "code",
    "id": "r2yeKkLsiRWJ",
    "colab": {}
   },
   "source": [
    "plt.plot(waveform.numpy())"
   ],
   "execution_count": 7,
   "outputs": [
    {
     "ename": "AttributeError",
     "evalue": "'Tensor' object has no attribute 'numpy'",
     "output_type": "error",
     "traceback": [
      "\u001B[1;31m---------------------------------------------------------------------------\u001B[0m",
      "\u001B[1;31mAttributeError\u001B[0m                            Traceback (most recent call last)",
      "\u001B[1;32m<ipython-input-7-4b7dba5e57b5>\u001B[0m in \u001B[0;36m<module>\u001B[1;34m\u001B[0m\n\u001B[1;32m----> 1\u001B[1;33m \u001B[0mplt\u001B[0m\u001B[1;33m.\u001B[0m\u001B[0mplot\u001B[0m\u001B[1;33m(\u001B[0m\u001B[0mwaveform\u001B[0m\u001B[1;33m.\u001B[0m\u001B[0mnumpy\u001B[0m\u001B[1;33m(\u001B[0m\u001B[1;33m)\u001B[0m\u001B[1;33m)\u001B[0m\u001B[1;33m\u001B[0m\u001B[1;33m\u001B[0m\u001B[0m\n\u001B[0m",
      "\u001B[1;31mAttributeError\u001B[0m: 'Tensor' object has no attribute 'numpy'"
     ]
    }
   ]
  },
  {
   "cell_type": "markdown",
   "metadata": {
    "colab_type": "text",
    "id": "5_wbAZ3vhQh1"
   },
   "source": [
    "## Prepare batched model"
   ]
  },
  {
   "cell_type": "code",
   "metadata": {
    "id": "SYl2VSAhU7L_",
    "colab_type": "code",
    "colab": {}
   },
   "source": [
    "# Set path to model weights and model parameters models trained on data set V2 can be downloaded from\n",
    "# https://storage.googleapis.com/kws_models/models2.zip\n",
    "# or from https://storage.googleapis.com/kws_models/models2_30k.zip\n",
    "MODEL_URL = \"https://storage.googleapis.com/kws_models/models2_30k.zip\"\n",
    "# base_name = os.path.basename(MODEL_URL)\n",
    "MODELS_PATH = 'C:/Users/alien/Documents/PyCharm-Projects/keyword-transformer/models_data_v2_12_labels/97.65625/'\n",
    "# base_name"
   ],
   "execution_count": 13,
   "outputs": []
  },
  {
   "cell_type": "code",
   "metadata": {
    "id": "mH-fyuESU7MD",
    "colab_type": "code",
    "colab": {}
   },
   "source": [
    "# it can take some time to download 2.3GB. After unpacking total size is 5.4GB\n",
    "# arch_file_name = os.path.join(MODELS_PATH, base_name)\n",
    "# if not os.path.isfile(arch_file_name):\n",
    "#   # download data\n",
    "#   if sys.version_info >= (2, 5):\n",
    "#     file_path = urllib.request.urlretrieve(MODEL_URL, filename=arch_file_name)[0]\n",
    "#   else:\n",
    "#     file_path = urllib.urlretrieve(MODEL_URL, filename=arch_file_name)[0]\n",
    "#\n",
    "#   # unpack it\n",
    "#   file_name, file_extension = os.path.splitext(base_name)\n",
    "#   with zipfile.ZipFile(file_path, 'r') as zip_ref:\n",
    "#     zip_ref.extractall(MODELS_PATH)"
   ],
   "execution_count": null,
   "outputs": []
  },
  {
   "cell_type": "code",
   "metadata": {
    "id": "XDZTRXCxU7MF",
    "colab_type": "code",
    "colab": {}
   },
   "source": [
    "# train_dir = os.path.join(MODELS_PATH, file_name, 'svdf')\n",
    "# urllib.request.urlretrieve(MODEL_URL, filename='C:/Users/alien/Documents/PyCharm-Projects/keyword-transformer/models2.zip')[0]"
   ],
   "execution_count": 17,
   "outputs": []
  },
  {
   "cell_type": "code",
   "metadata": {
    "colab_type": "code",
    "id": "e2f-1Ioqbn4G",
    "colab": {}
   },
   "source": [
    "# load command line command flags which were use for model creation/training\n",
    "from argparse import Namespace\n",
    "with open(os.path.join(MODELS_PATH, 'flags.txt'), 'r') as fd:\n",
    "  flags_txt = fd.read()\n",
    "flags = eval(flags_txt)"
   ],
   "execution_count": 14,
   "outputs": []
  },
  {
   "cell_type": "code",
   "metadata": {
    "id": "I2x6dAhgU7ML",
    "colab_type": "code",
    "colab": {}
   },
   "source": [
    "# below is another way of reading flags - through json\n",
    "# with tf.compat.v1.gfile.Open(os.path.join(train_dir, 'flags.json'), 'r') as fd:\n",
    "#   flags_json = json.load(fd)\n",
    "\n",
    "# class DictStruct(object):\n",
    "#   def __init__(self, **entries):\n",
    "#     self.__dict__.update(entries)\n",
    "\n",
    "# flags = DictStruct(**flags_json)\n"
   ],
   "execution_count": null,
   "outputs": []
  },
  {
   "cell_type": "code",
   "metadata": {
    "id": "PSfkGIgAU7MO",
    "colab_type": "code",
    "colab": {}
   },
   "source": [
    "flags.data_dir = DATA_PATH"
   ],
   "execution_count": 15,
   "outputs": []
  },
  {
   "cell_type": "code",
   "metadata": {
    "id": "U1al1r1PU7MR",
    "colab_type": "code",
    "colab": {}
   },
   "source": [
    "# pad input audio with zeros, so that audio len = flags.desired_samples\n",
    "zero_padding = tf.zeros([16000] - tf.shape(waveform), dtype=tf.float32)\n",
    "# Concatenate audio with padding so that all audio clips will be of the same length\n",
    "waveform = tf.cast(waveform, tf.float32)\n",
    "equal_length = tf.concat([waveform, zero_padding], 0)\n",
    "input_data = tf.expand_dims(equal_length, 0)"
   ],
   "execution_count": 16,
   "outputs": []
  },
  {
   "cell_type": "code",
   "metadata": {
    "id": "gkWTgtOWU7MT",
    "colab_type": "code",
    "colab": {}
   },
   "source": [
    "# prepare mapping of index to word\n",
    "audio_processor = data.input_data.AudioProcessor(flags)\n",
    "index_to_label = {}\n",
    "# labels used for training\n",
    "for word in audio_processor.word_to_index.keys():\n",
    "  if audio_processor.word_to_index[word] == data.input_data.SILENCE_INDEX:\n",
    "    index_to_label[audio_processor.word_to_index[word]] = data.input_data.SILENCE_LABEL\n",
    "  elif audio_processor.word_to_index[word] == data.input_data.UNKNOWN_WORD_INDEX:\n",
    "    index_to_label[audio_processor.word_to_index[word]] = data.input_data.UNKNOWN_WORD_LABEL\n",
    "  else:\n",
    "    index_to_label[audio_processor.word_to_index[word]] = word\n",
    "\n",
    "# training labels\n",
    "index_to_label"
   ],
   "execution_count": 17,
   "outputs": [
    {
     "data": {
      "text/plain": "{2: 'bird',\n 3: 'eight',\n 4: 'falcon',\n 5: 'five',\n 6: 'four',\n 7: 'nine',\n 8: 'one',\n 9: 'seven',\n 10: 'six',\n 11: 'snake',\n 12: 'three',\n 13: 'two',\n 14: 'zero',\n 0: '_silence_'}"
     },
     "execution_count": 17,
     "metadata": {},
     "output_type": "execute_result"
    }
   ]
  },
  {
   "cell_type": "code",
   "metadata": {
    "colab_type": "code",
    "id": "WlGR0oOxnizg",
    "colab": {}
   },
   "source": [
    "# we can create a dummy model\n",
    "# flags = model_params.HOTWORD_MODEL_PARAMS['gru']\n",
    "# flags = model_flags.update_flags(flags)"
   ],
   "execution_count": null,
   "outputs": []
  },
  {
   "cell_type": "code",
   "metadata": {
    "colab_type": "code",
    "id": "wsGDG4A0cIMO",
    "colab": {}
   },
   "source": [
    "# create model with flag's parameters\n",
    "model_non_stream_batch = models.MODELS[flags.model_name](flags)\n",
    "\n",
    "# load model's weights\n",
    "weights_name = 'best_weights'\n",
    "model_non_stream_batch.load_weights(os.path.join(MODELS_PATH, weights_name))"
   ],
   "execution_count": 18,
   "outputs": [
    {
     "name": "stderr",
     "output_type": "stream",
     "text": [
      "c:\\program files\\python38\\lib\\site-packages\\tensorflow\\python\\autograph\\impl\\api.py:390: UserWarning: Default value of `approximate` is changed from `True` to `False`\n",
      "  return py_builtins.overload_of(f)(*args)\n"
     ]
    },
    {
     "data": {
      "text/plain": "<tensorflow.python.training.tracking.util.CheckpointLoadStatus at 0x2cee07767f0>"
     },
     "execution_count": 18,
     "metadata": {},
     "output_type": "execute_result"
    }
   ]
  },
  {
   "cell_type": "code",
   "metadata": {
    "colab_type": "code",
    "id": "dsWLekwbkdTo",
    "colab": {}
   },
   "source": [
    "#model_non_stream_batch.summary()"
   ],
   "execution_count": null,
   "outputs": []
  },
  {
   "cell_type": "code",
   "metadata": {
    "colab_type": "code",
    "id": "QVhESthmMl0X",
    "colab": {}
   },
   "source": [
    "tf.keras.utils.plot_model(\n",
    "    model_non_stream_batch,\n",
    "    show_shapes=True,\n",
    "    show_layer_names=True,\n",
    "    expand_nested=True, to_file='model.png')"
   ],
   "execution_count": 19,
   "outputs": [
    {
     "data": {
      "image/png": "[encoded data removed]",
      "text/plain": "<IPython.core.display.Image object>"
     },
     "execution_count": 19,
     "metadata": {},
     "output_type": "execute_result"
    }
   ]
  },
  {
   "cell_type": "markdown",
   "metadata": {
    "colab_type": "text",
    "id": "RIr1DWLisMu9"
   },
   "source": [
    "## Run inference with TF"
   ]
  },
  {
   "cell_type": "markdown",
   "metadata": {
    "colab_type": "text",
    "id": "456ynjRxmdVc"
   },
   "source": [
    "### TF Run non streaming inference"
   ]
  },
  {
   "cell_type": "code",
   "metadata": {
    "colab_type": "code",
    "id": "-vJpOCJClDK5",
    "colab": {}
   },
   "source": [
    "# convert model to inference mode with batch one\n",
    "inference_batch_size = 1\n",
    "tf.keras.backend.set_learning_phase(0)\n",
    "flags.batch_size = inference_batch_size  # set batch size\n",
    "model_non_stream_batch.summary()\n",
    "# model_non_stream = utils.to_streaming_inference(model_non_stream_batch, flags, Modes.NON_STREAM_INFERENCE)\n",
    "# model_non_stream.summary()"
   ],
   "execution_count": 27,
   "outputs": [
    {
     "name": "stdout",
     "output_type": "stream",
     "text": [
      "Model: \"model\"\n",
      "_________________________________________________________________\n",
      "Layer (type)                 Output Shape              Param #   \n",
      "=================================================================\n",
      "input_1 (InputLayer)         [(128, 16000)]            0         \n",
      "_________________________________________________________________\n",
      "speech_features (SpeechFeatu (128, 98, 40)             0         \n",
      "_________________________________________________________________\n",
      "kws_transformer (KWSTransfor (128, 192)                5358528   \n",
      "_________________________________________________________________\n",
      "sequential_12 (Sequential)   multiple                  2895      \n",
      "=================================================================\n",
      "Total params: 5,361,423\n",
      "Trainable params: 5,361,423\n",
      "Non-trainable params: 0\n",
      "_________________________________________________________________\n"
     ]
    },
    {
     "name": "stderr",
     "output_type": "stream",
     "text": [
      "c:\\program files\\python38\\lib\\site-packages\\tensorflow\\python\\keras\\backend.py:434: UserWarning: `tf.keras.backend.set_learning_phase` is deprecated and will be removed after 2020-10-11. To update it, simply pass a True/False value to the `training` argument of the `__call__` method of your layer or model.\n",
      "  warnings.warn('`tf.keras.backend.set_learning_phase` is deprecated and '\n"
     ]
    }
   ]
  },
  {
   "cell_type": "code",
   "metadata": {
    "colab_type": "code",
    "id": "O1gOGQjWMufh",
    "colab": {}
   },
   "source": [
    "# tf.keras.utils.plot_model(\n",
    "#     model_non_stream,\n",
    "#     show_shapes=True,\n",
    "#     show_layer_names=True,\n",
    "#     expand_nested=True, to_file='model.png')"
   ],
   "execution_count": 22,
   "outputs": [
    {
     "ename": "NameError",
     "evalue": "name 'model_non_stream' is not defined",
     "output_type": "error",
     "traceback": [
      "\u001B[1;31m---------------------------------------------------------------------------\u001B[0m",
      "\u001B[1;31mNameError\u001B[0m                                 Traceback (most recent call last)",
      "\u001B[1;32m<ipython-input-22-a9964cb1c038>\u001B[0m in \u001B[0;36m<module>\u001B[1;34m\u001B[0m\n\u001B[0;32m      1\u001B[0m tf.keras.utils.plot_model(\n\u001B[1;32m----> 2\u001B[1;33m     \u001B[0mmodel_non_stream\u001B[0m\u001B[1;33m,\u001B[0m\u001B[1;33m\u001B[0m\u001B[1;33m\u001B[0m\u001B[0m\n\u001B[0m\u001B[0;32m      3\u001B[0m     \u001B[0mshow_shapes\u001B[0m\u001B[1;33m=\u001B[0m\u001B[1;32mTrue\u001B[0m\u001B[1;33m,\u001B[0m\u001B[1;33m\u001B[0m\u001B[1;33m\u001B[0m\u001B[0m\n\u001B[0;32m      4\u001B[0m     \u001B[0mshow_layer_names\u001B[0m\u001B[1;33m=\u001B[0m\u001B[1;32mTrue\u001B[0m\u001B[1;33m,\u001B[0m\u001B[1;33m\u001B[0m\u001B[1;33m\u001B[0m\u001B[0m\n\u001B[0;32m      5\u001B[0m     expand_nested=True, to_file='model.png')\n",
      "\u001B[1;31mNameError\u001B[0m: name 'model_non_stream' is not defined"
     ]
    }
   ]
  },
  {
   "cell_type": "code",
   "metadata": {
    "colab_type": "code",
    "id": "nPUfT4a4lxIj",
    "colab": {}
   },
   "source": [
    "predictions = model_non_stream_batch.predict(input_data, steps=128)\n",
    "predicted_labels = np.argmax(predictions, axis=1)"
   ],
   "execution_count": 29,
   "outputs": [
    {
     "ename": "InvalidArgumentError",
     "evalue": "2 root error(s) found.\n  (0) Invalid argument: Input to reshape is a tensor with 16000 values, but the requested shape has 2048000\n\t [[{{node speech_features/data_frame/frame/Reshape}}]]\n\t [[sequential_12/dense_73/BiasAdd/_333]]\n  (1) Invalid argument: Input to reshape is a tensor with 16000 values, but the requested shape has 2048000\n\t [[{{node speech_features/data_frame/frame/Reshape}}]]\n0 successful operations.\n0 derived errors ignored.",
     "output_type": "error",
     "traceback": [
      "\u001B[1;31m---------------------------------------------------------------------------\u001B[0m",
      "\u001B[1;31mInvalidArgumentError\u001B[0m                      Traceback (most recent call last)",
      "\u001B[1;32m<ipython-input-29-1eaa78980995>\u001B[0m in \u001B[0;36m<module>\u001B[1;34m\u001B[0m\n\u001B[1;32m----> 1\u001B[1;33m \u001B[0mpredictions\u001B[0m \u001B[1;33m=\u001B[0m \u001B[0mmodel_non_stream_batch\u001B[0m\u001B[1;33m.\u001B[0m\u001B[0mpredict\u001B[0m\u001B[1;33m(\u001B[0m\u001B[0minput_data\u001B[0m\u001B[1;33m,\u001B[0m \u001B[0msteps\u001B[0m\u001B[1;33m=\u001B[0m\u001B[1;36m128\u001B[0m\u001B[1;33m)\u001B[0m\u001B[1;33m\u001B[0m\u001B[1;33m\u001B[0m\u001B[0m\n\u001B[0m\u001B[0;32m      2\u001B[0m \u001B[0mpredicted_labels\u001B[0m \u001B[1;33m=\u001B[0m \u001B[0mnp\u001B[0m\u001B[1;33m.\u001B[0m\u001B[0margmax\u001B[0m\u001B[1;33m(\u001B[0m\u001B[0mpredictions\u001B[0m\u001B[1;33m,\u001B[0m \u001B[0maxis\u001B[0m\u001B[1;33m=\u001B[0m\u001B[1;36m1\u001B[0m\u001B[1;33m)\u001B[0m\u001B[1;33m\u001B[0m\u001B[1;33m\u001B[0m\u001B[0m\n\u001B[0;32m      3\u001B[0m \u001B[1;33m\u001B[0m\u001B[0m\n",
      "\u001B[1;32mc:\\program files\\python38\\lib\\site-packages\\tensorflow\\python\\keras\\engine\\training_v1.py\u001B[0m in \u001B[0;36mpredict\u001B[1;34m(self, x, batch_size, verbose, steps, callbacks, max_queue_size, workers, use_multiprocessing)\u001B[0m\n\u001B[0;32m    980\u001B[0m \u001B[1;33m\u001B[0m\u001B[0m\n\u001B[0;32m    981\u001B[0m     \u001B[0mfunc\u001B[0m \u001B[1;33m=\u001B[0m \u001B[0mself\u001B[0m\u001B[1;33m.\u001B[0m\u001B[0m_select_training_loop\u001B[0m\u001B[1;33m(\u001B[0m\u001B[0mx\u001B[0m\u001B[1;33m)\u001B[0m\u001B[1;33m\u001B[0m\u001B[1;33m\u001B[0m\u001B[0m\n\u001B[1;32m--> 982\u001B[1;33m     return func.predict(\n\u001B[0m\u001B[0;32m    983\u001B[0m         \u001B[0mself\u001B[0m\u001B[1;33m,\u001B[0m\u001B[1;33m\u001B[0m\u001B[1;33m\u001B[0m\u001B[0m\n\u001B[0;32m    984\u001B[0m         \u001B[0mx\u001B[0m\u001B[1;33m=\u001B[0m\u001B[0mx\u001B[0m\u001B[1;33m,\u001B[0m\u001B[1;33m\u001B[0m\u001B[1;33m\u001B[0m\u001B[0m\n",
      "\u001B[1;32mc:\\program files\\python38\\lib\\site-packages\\tensorflow\\python\\keras\\engine\\training_arrays_v1.py\u001B[0m in \u001B[0;36mpredict\u001B[1;34m(self, model, x, batch_size, verbose, steps, callbacks, **kwargs)\u001B[0m\n\u001B[0;32m    704\u001B[0m     x, _, _ = model._standardize_user_data(\n\u001B[0;32m    705\u001B[0m         x, check_steps=True, steps_name='steps', steps=steps)\n\u001B[1;32m--> 706\u001B[1;33m     return predict_loop(\n\u001B[0m\u001B[0;32m    707\u001B[0m         \u001B[0mmodel\u001B[0m\u001B[1;33m,\u001B[0m\u001B[1;33m\u001B[0m\u001B[1;33m\u001B[0m\u001B[0m\n\u001B[0;32m    708\u001B[0m         \u001B[0mx\u001B[0m\u001B[1;33m,\u001B[0m\u001B[1;33m\u001B[0m\u001B[1;33m\u001B[0m\u001B[0m\n",
      "\u001B[1;32mc:\\program files\\python38\\lib\\site-packages\\tensorflow\\python\\keras\\engine\\training_arrays_v1.py\u001B[0m in \u001B[0;36mmodel_iteration\u001B[1;34m(model, inputs, targets, sample_weights, batch_size, epochs, verbose, callbacks, val_inputs, val_targets, val_sample_weights, shuffle, initial_epoch, steps_per_epoch, validation_steps, validation_freq, mode, validation_in_fit, prepared_feed_values_from_dataset, steps_name, **kwargs)\u001B[0m\n\u001B[0;32m    292\u001B[0m           \u001B[1;32melse\u001B[0m\u001B[1;33m:\u001B[0m\u001B[1;33m\u001B[0m\u001B[1;33m\u001B[0m\u001B[0m\n\u001B[0;32m    293\u001B[0m             \u001B[0mactual_inputs\u001B[0m \u001B[1;33m=\u001B[0m \u001B[0mins\u001B[0m\u001B[1;33m(\u001B[0m\u001B[1;33m)\u001B[0m\u001B[1;33m\u001B[0m\u001B[1;33m\u001B[0m\u001B[0m\n\u001B[1;32m--> 294\u001B[1;33m           \u001B[0mbatch_outs\u001B[0m \u001B[1;33m=\u001B[0m \u001B[0mf\u001B[0m\u001B[1;33m(\u001B[0m\u001B[0mactual_inputs\u001B[0m\u001B[1;33m)\u001B[0m\u001B[1;33m\u001B[0m\u001B[1;33m\u001B[0m\u001B[0m\n\u001B[0m\u001B[0;32m    295\u001B[0m         \u001B[1;32mexcept\u001B[0m \u001B[0merrors\u001B[0m\u001B[1;33m.\u001B[0m\u001B[0mOutOfRangeError\u001B[0m\u001B[1;33m:\u001B[0m\u001B[1;33m\u001B[0m\u001B[1;33m\u001B[0m\u001B[0m\n\u001B[0;32m    296\u001B[0m           \u001B[1;32mif\u001B[0m \u001B[0mis_dataset\u001B[0m\u001B[1;33m:\u001B[0m\u001B[1;33m\u001B[0m\u001B[1;33m\u001B[0m\u001B[0m\n",
      "\u001B[1;32mc:\\program files\\python38\\lib\\site-packages\\tensorflow\\python\\keras\\backend.py\u001B[0m in \u001B[0;36m__call__\u001B[1;34m(self, inputs)\u001B[0m\n\u001B[0;32m   3954\u001B[0m       \u001B[0mself\u001B[0m\u001B[1;33m.\u001B[0m\u001B[0m_make_callable\u001B[0m\u001B[1;33m(\u001B[0m\u001B[0mfeed_arrays\u001B[0m\u001B[1;33m,\u001B[0m \u001B[0mfeed_symbols\u001B[0m\u001B[1;33m,\u001B[0m \u001B[0msymbol_vals\u001B[0m\u001B[1;33m,\u001B[0m \u001B[0msession\u001B[0m\u001B[1;33m)\u001B[0m\u001B[1;33m\u001B[0m\u001B[1;33m\u001B[0m\u001B[0m\n\u001B[0;32m   3955\u001B[0m \u001B[1;33m\u001B[0m\u001B[0m\n\u001B[1;32m-> 3956\u001B[1;33m     fetched = self._callable_fn(*array_vals,\n\u001B[0m\u001B[0;32m   3957\u001B[0m                                 run_metadata=self.run_metadata)\n\u001B[0;32m   3958\u001B[0m     \u001B[0mself\u001B[0m\u001B[1;33m.\u001B[0m\u001B[0m_call_fetch_callbacks\u001B[0m\u001B[1;33m(\u001B[0m\u001B[0mfetched\u001B[0m\u001B[1;33m[\u001B[0m\u001B[1;33m-\u001B[0m\u001B[0mlen\u001B[0m\u001B[1;33m(\u001B[0m\u001B[0mself\u001B[0m\u001B[1;33m.\u001B[0m\u001B[0m_fetches\u001B[0m\u001B[1;33m)\u001B[0m\u001B[1;33m:\u001B[0m\u001B[1;33m]\u001B[0m\u001B[1;33m)\u001B[0m\u001B[1;33m\u001B[0m\u001B[1;33m\u001B[0m\u001B[0m\n",
      "\u001B[1;32mc:\\program files\\python38\\lib\\site-packages\\tensorflow\\python\\client\\session.py\u001B[0m in \u001B[0;36m__call__\u001B[1;34m(self, *args, **kwargs)\u001B[0m\n\u001B[0;32m   1478\u001B[0m       \u001B[1;32mtry\u001B[0m\u001B[1;33m:\u001B[0m\u001B[1;33m\u001B[0m\u001B[1;33m\u001B[0m\u001B[0m\n\u001B[0;32m   1479\u001B[0m         \u001B[0mrun_metadata_ptr\u001B[0m \u001B[1;33m=\u001B[0m \u001B[0mtf_session\u001B[0m\u001B[1;33m.\u001B[0m\u001B[0mTF_NewBuffer\u001B[0m\u001B[1;33m(\u001B[0m\u001B[1;33m)\u001B[0m \u001B[1;32mif\u001B[0m \u001B[0mrun_metadata\u001B[0m \u001B[1;32melse\u001B[0m \u001B[1;32mNone\u001B[0m\u001B[1;33m\u001B[0m\u001B[1;33m\u001B[0m\u001B[0m\n\u001B[1;32m-> 1480\u001B[1;33m         ret = tf_session.TF_SessionRunCallable(self._session._session,\n\u001B[0m\u001B[0;32m   1481\u001B[0m                                                \u001B[0mself\u001B[0m\u001B[1;33m.\u001B[0m\u001B[0m_handle\u001B[0m\u001B[1;33m,\u001B[0m \u001B[0margs\u001B[0m\u001B[1;33m,\u001B[0m\u001B[1;33m\u001B[0m\u001B[1;33m\u001B[0m\u001B[0m\n\u001B[0;32m   1482\u001B[0m                                                run_metadata_ptr)\n",
      "\u001B[1;31mInvalidArgumentError\u001B[0m: 2 root error(s) found.\n  (0) Invalid argument: Input to reshape is a tensor with 16000 values, but the requested shape has 2048000\n\t [[{{node speech_features/data_frame/frame/Reshape}}]]\n\t [[sequential_12/dense_73/BiasAdd/_333]]\n  (1) Invalid argument: Input to reshape is a tensor with 16000 values, but the requested shape has 2048000\n\t [[{{node speech_features/data_frame/frame/Reshape}}]]\n0 successful operations.\n0 derived errors ignored."
     ]
    }
   ]
  },
  {
   "cell_type": "code",
   "metadata": {
    "colab_type": "code",
    "id": "63sisD1hl7jz",
    "colab": {}
   },
   "source": [
    "predicted_labels"
   ],
   "execution_count": null,
   "outputs": []
  },
  {
   "cell_type": "code",
   "metadata": {
    "colab_type": "code",
    "id": "rBhLA1OZmQxj",
    "colab": {}
   },
   "source": [
    "index_to_label[predicted_labels[0]]"
   ],
   "execution_count": null,
   "outputs": []
  },
  {
   "cell_type": "markdown",
   "metadata": {
    "colab_type": "text",
    "id": "ZVFoVdYSpnL_"
   },
   "source": [
    "### TF Run streaming inference with internal state"
   ]
  },
  {
   "cell_type": "code",
   "metadata": {
    "colab_type": "code",
    "id": "cgcpcrASquAY",
    "colab": {}
   },
   "source": [
    "# convert model to streaming mode\n",
    "flags.batch_size = inference_batch_size  # set batch size\n",
    "\n",
    "model_stream = utils.to_streaming_inference(model_non_stream_batch, flags, Modes.STREAM_INTERNAL_STATE_INFERENCE)\n",
    "#model_stream.summary()"
   ],
   "execution_count": null,
   "outputs": []
  },
  {
   "cell_type": "code",
   "metadata": {
    "colab_type": "code",
    "id": "BNtgTOBCM06v",
    "colab": {}
   },
   "source": [
    "tf.keras.utils.plot_model(\n",
    "    model_stream,\n",
    "    show_shapes=True,\n",
    "    show_layer_names=True,\n",
    "    expand_nested=True)"
   ],
   "execution_count": null,
   "outputs": []
  },
  {
   "cell_type": "code",
   "metadata": {
    "colab_type": "code",
    "id": "7NOG8wrYpnnq",
    "colab": {}
   },
   "source": [
    "# run streaming inference\n",
    "start = 0\n",
    "end = flags.window_stride_samples\n",
    "while end <= input_data.shape[1]:\n",
    "  stream_update = input_data[:, start:end]\n",
    "\n",
    "  # get new frame from stream of data\n",
    "  stream_output_prediction = model_stream.predict(stream_update)\n",
    "  stream_output_arg = np.argmax(stream_output_prediction)\n",
    "\n",
    "  # update indexes of streamed updates\n",
    "  start = end\n",
    "  end = start + flags.window_stride_samples\n",
    "\n",
    "stream_output_arg"
   ],
   "execution_count": null,
   "outputs": []
  },
  {
   "cell_type": "code",
   "metadata": {
    "colab_type": "code",
    "id": "S-xeXPhAqC20",
    "colab": {}
   },
   "source": [
    "index_to_label[stream_output_arg]"
   ],
   "execution_count": null,
   "outputs": []
  },
  {
   "cell_type": "markdown",
   "metadata": {
    "colab_type": "text",
    "id": "F5WYgOtSqrQb"
   },
   "source": [
    "### TF Run streaming inference with external state"
   ]
  },
  {
   "cell_type": "code",
   "metadata": {
    "colab_type": "code",
    "id": "2hTLEY1qq_ig",
    "colab": {}
   },
   "source": [
    "# convert model to streaming mode\n",
    "flags.batch_size = inference_batch_size  # set batch size\n",
    "\n",
    "model_stream = utils.to_streaming_inference(model_non_stream_batch, flags, Modes.STREAM_EXTERNAL_STATE_INFERENCE)\n",
    "#model_stream.summary()"
   ],
   "execution_count": null,
   "outputs": []
  },
  {
   "cell_type": "code",
   "metadata": {
    "colab_type": "code",
    "id": "AyeABeg9Mbf6",
    "colab": {}
   },
   "source": [
    "tf.keras.utils.plot_model(\n",
    "    model_stream,\n",
    "    show_shapes=True,\n",
    "    show_layer_names=True,\n",
    "    expand_nested=True)"
   ],
   "execution_count": null,
   "outputs": []
  },
  {
   "cell_type": "code",
   "metadata": {
    "colab_type": "code",
    "id": "RISdLTnmqrcA",
    "colab": {}
   },
   "source": [
    "\n",
    "inputs = []\n",
    "for s in range(len(model_stream.inputs)):\n",
    "  inputs.append(np.zeros(model_stream.inputs[s].shape, dtype=np.float32))\n",
    "\n",
    "reset_state = True\n",
    "\n",
    "if reset_state:\n",
    "  for s in range(len(model_stream.inputs)):\n",
    "    inputs[s] = np.zeros(model_stream.inputs[s].shape, dtype=np.float32)\n",
    "\n",
    "start = 0\n",
    "end = flags.window_stride_samples\n",
    "while end <= input_data.shape[1]:\n",
    "  # get new frame from stream of data\n",
    "  stream_update = input_data[:, start:end]\n",
    "\n",
    "  # update indexes of streamed updates\n",
    "  start = end\n",
    "  end = start + flags.window_stride_samples\n",
    "\n",
    "  # set input audio data (by default input data at index 0)\n",
    "  inputs[0] = stream_update\n",
    "\n",
    "  # run inference\n",
    "  outputs = model_stream.predict(inputs)\n",
    "\n",
    "  # get output states and set it back to input states\n",
    "  # which will be fed in the next inference cycle\n",
    "  for s in range(1, len(model_stream.inputs)):\n",
    "    inputs[s] = outputs[s]\n",
    "\n",
    "  stream_output_arg = np.argmax(outputs[0])\n",
    "stream_output_arg"
   ],
   "execution_count": null,
   "outputs": []
  },
  {
   "cell_type": "code",
   "metadata": {
    "colab_type": "code",
    "id": "u6p1xubwrYyo",
    "colab": {}
   },
   "source": [
    "index_to_label[stream_output_arg]"
   ],
   "execution_count": null,
   "outputs": []
  },
  {
   "cell_type": "markdown",
   "metadata": {
    "colab_type": "text",
    "id": "KAJs5dBXsYCa"
   },
   "source": [
    "## Run inference with TFlite"
   ]
  },
  {
   "cell_type": "markdown",
   "metadata": {
    "colab_type": "text",
    "id": "Z5qmO5KrU7NP"
   },
   "source": [
    "### Run non streaming inference with TFLite"
   ]
  },
  {
   "cell_type": "code",
   "metadata": {
    "colab_type": "code",
    "id": "88bclN4rtu-5",
    "colab": {}
   },
   "source": [
    "path = os.path.join('C:/Users/alien/Documents/PyCharm-Projects/keyword-transformer/models_data_v2_12_labels/96.5625/tflite_non_stream')\n",
    "tflite_model_name = 'non_stream.tflite'\n",
    "\n",
    "# tflite_non_streaming_model = utils.model_to_tflite(sess, model_non_stream, flags, Modes.NON_STREAM_INFERENCE)\n",
    "\n",
    "# prepare TFLite interpreter\n",
    "with open(os.path.join(path, tflite_model_name), 'rb') as f:\n",
    "  model_content = f.read()\n",
    "\n",
    "interpreter = tf.lite.Interpreter(model_content=model_content)\n",
    "interpreter.allocate_tensors()\n",
    "\n",
    "input_details = interpreter.get_input_details()\n",
    "output_details = interpreter.get_output_details()\n",
    "\n",
    "inputs = []\n",
    "for s in range(len(input_details)):\n",
    "  inputs.append(np.zeros(input_details[s]['shape'], dtype=np.float32))"
   ],
   "execution_count": 49,
   "outputs": []
  },
  {
   "cell_type": "code",
   "metadata": {
    "colab_type": "code",
    "id": "3J2n7VB5JxV6",
    "colab": {}
   },
   "source": [
    "# pad input audio with zeros, so that audio len = flags.desired_samples\n",
    "zero_padding = tf.zeros([16000] - tf.shape(waveform), dtype=tf.float32)\n",
    "# Concatenate audio with padding so that all audio clips will be of the same length\n",
    "waveform = tf.cast(waveform, tf.float32)\n",
    "equal_length = tf.concat([waveform, zero_padding], 0)\n",
    "input_data = tf.expand_dims(equal_length, 0)"
   ],
   "execution_count": 53,
   "outputs": [
    {
     "ename": "AttributeError",
     "evalue": "'Tensor' object has no attribute 'numpy'",
     "output_type": "error",
     "traceback": [
      "\u001B[1;31m---------------------------------------------------------------------------\u001B[0m",
      "\u001B[1;31mAttributeError\u001B[0m                            Traceback (most recent call last)",
      "\u001B[1;32m<ipython-input-53-357e7737b932>\u001B[0m in \u001B[0;36m<module>\u001B[1;34m\u001B[0m\n\u001B[0;32m      1\u001B[0m \u001B[0mpadded_input\u001B[0m \u001B[1;33m=\u001B[0m \u001B[0mnp\u001B[0m\u001B[1;33m.\u001B[0m\u001B[0mzeros\u001B[0m\u001B[1;33m(\u001B[0m\u001B[1;33m(\u001B[0m\u001B[1;36m1\u001B[0m\u001B[1;33m,\u001B[0m \u001B[1;36m16000\u001B[0m\u001B[1;33m)\u001B[0m\u001B[1;33m,\u001B[0m \u001B[0mdtype\u001B[0m\u001B[1;33m=\u001B[0m\u001B[0mnp\u001B[0m\u001B[1;33m.\u001B[0m\u001B[0mfloat32\u001B[0m\u001B[1;33m)\u001B[0m\u001B[1;33m\u001B[0m\u001B[1;33m\u001B[0m\u001B[0m\n\u001B[1;32m----> 2\u001B[1;33m \u001B[0mpadded_input\u001B[0m\u001B[1;33m[\u001B[0m\u001B[1;33m:\u001B[0m\u001B[1;33m,\u001B[0m \u001B[1;33m:\u001B[0m\u001B[0minput_data\u001B[0m\u001B[1;33m.\u001B[0m\u001B[0mshape\u001B[0m\u001B[1;33m[\u001B[0m\u001B[1;36m1\u001B[0m\u001B[1;33m]\u001B[0m\u001B[1;33m]\u001B[0m \u001B[1;33m=\u001B[0m \u001B[0minput_data\u001B[0m\u001B[1;33m.\u001B[0m\u001B[0mnumpy\u001B[0m\u001B[1;33m(\u001B[0m\u001B[1;33m)\u001B[0m\u001B[1;33m\u001B[0m\u001B[1;33m\u001B[0m\u001B[0m\n\u001B[0m\u001B[0;32m      3\u001B[0m \u001B[1;33m\u001B[0m\u001B[0m\n",
      "\u001B[1;32mc:\\program files\\python38\\lib\\site-packages\\tensorflow\\python\\framework\\ops.py\u001B[0m in \u001B[0;36m__getattr__\u001B[1;34m(self, name)\u001B[0m\n\u001B[0;32m    399\u001B[0m         \u001B[1;32mimport\u001B[0m \u001B[0mtensorflow\u001B[0m\u001B[1;33m.\u001B[0m\u001B[0mpython\u001B[0m\u001B[1;33m.\u001B[0m\u001B[0mops\u001B[0m\u001B[1;33m.\u001B[0m\u001B[0mnumpy_ops\u001B[0m\u001B[1;33m.\u001B[0m\u001B[0mnp_config\u001B[0m\u001B[1;33m\u001B[0m\u001B[1;33m\u001B[0m\u001B[0m\n\u001B[0;32m    400\u001B[0m         np_config.enable_numpy_behavior()\"\"\".format(type(self).__name__, name))\n\u001B[1;32m--> 401\u001B[1;33m     \u001B[0mself\u001B[0m\u001B[1;33m.\u001B[0m\u001B[0m__getattribute__\u001B[0m\u001B[1;33m(\u001B[0m\u001B[0mname\u001B[0m\u001B[1;33m)\u001B[0m\u001B[1;33m\u001B[0m\u001B[1;33m\u001B[0m\u001B[0m\n\u001B[0m\u001B[0;32m    402\u001B[0m \u001B[1;33m\u001B[0m\u001B[0m\n\u001B[0;32m    403\u001B[0m   \u001B[1;33m@\u001B[0m\u001B[0mstaticmethod\u001B[0m\u001B[1;33m\u001B[0m\u001B[1;33m\u001B[0m\u001B[0m\n",
      "\u001B[1;31mAttributeError\u001B[0m: 'Tensor' object has no attribute 'numpy'"
     ]
    }
   ]
  },
  {
   "cell_type": "code",
   "metadata": {
    "colab_type": "code",
    "id": "TXqHxLcVregL",
    "colab": {}
   },
   "source": [
    "# set input audio data (by default input data at index 0)\n",
    "interpreter.set_tensor(input_details[0]['index'], input_data.astype(np.float32))\n",
    "\n",
    "# run inference\n",
    "interpreter.invoke()\n",
    "\n",
    "# get output: classification\n",
    "out_tflite = interpreter.get_tensor(output_details[0]['index'])\n",
    "\n",
    "out_tflite_argmax = np.argmax(out_tflite)\n",
    "\n",
    "out_tflite_argmax"
   ],
   "execution_count": 55,
   "outputs": [
    {
     "ename": "AttributeError",
     "evalue": "\n        'Tensor' object has no attribute 'astype'.\n        If you are looking for numpy-related methods, please run the following:\n        import tensorflow.python.ops.numpy_ops.np_config\n        np_config.enable_numpy_behavior()",
     "output_type": "error",
     "traceback": [
      "\u001B[1;31m---------------------------------------------------------------------------\u001B[0m",
      "\u001B[1;31mAttributeError\u001B[0m                            Traceback (most recent call last)",
      "\u001B[1;32m<ipython-input-55-a1f77b3ae9f0>\u001B[0m in \u001B[0;36m<module>\u001B[1;34m\u001B[0m\n\u001B[0;32m      1\u001B[0m \u001B[1;31m# set input audio data (by default input data at index 0)\u001B[0m\u001B[1;33m\u001B[0m\u001B[1;33m\u001B[0m\u001B[1;33m\u001B[0m\u001B[0m\n\u001B[1;32m----> 2\u001B[1;33m \u001B[0minterpreter\u001B[0m\u001B[1;33m.\u001B[0m\u001B[0mset_tensor\u001B[0m\u001B[1;33m(\u001B[0m\u001B[0minput_details\u001B[0m\u001B[1;33m[\u001B[0m\u001B[1;36m0\u001B[0m\u001B[1;33m]\u001B[0m\u001B[1;33m[\u001B[0m\u001B[1;34m'index'\u001B[0m\u001B[1;33m]\u001B[0m\u001B[1;33m,\u001B[0m \u001B[0minput_data\u001B[0m\u001B[1;33m.\u001B[0m\u001B[0mastype\u001B[0m\u001B[1;33m(\u001B[0m\u001B[0mnp\u001B[0m\u001B[1;33m.\u001B[0m\u001B[0mfloat32\u001B[0m\u001B[1;33m)\u001B[0m\u001B[1;33m)\u001B[0m\u001B[1;33m\u001B[0m\u001B[1;33m\u001B[0m\u001B[0m\n\u001B[0m\u001B[0;32m      3\u001B[0m \u001B[1;33m\u001B[0m\u001B[0m\n\u001B[0;32m      4\u001B[0m \u001B[1;31m# run inference\u001B[0m\u001B[1;33m\u001B[0m\u001B[1;33m\u001B[0m\u001B[1;33m\u001B[0m\u001B[0m\n\u001B[0;32m      5\u001B[0m \u001B[0minterpreter\u001B[0m\u001B[1;33m.\u001B[0m\u001B[0minvoke\u001B[0m\u001B[1;33m(\u001B[0m\u001B[1;33m)\u001B[0m\u001B[1;33m\u001B[0m\u001B[1;33m\u001B[0m\u001B[0m\n",
      "\u001B[1;32mc:\\program files\\python38\\lib\\site-packages\\tensorflow\\python\\framework\\ops.py\u001B[0m in \u001B[0;36m__getattr__\u001B[1;34m(self, name)\u001B[0m\n\u001B[0;32m    394\u001B[0m                 \"tolist\", \"data\"}:\n\u001B[0;32m    395\u001B[0m       \u001B[1;31m# TODO(wangpeng): Export the enable_numpy_behavior knob\u001B[0m\u001B[1;33m\u001B[0m\u001B[1;33m\u001B[0m\u001B[1;33m\u001B[0m\u001B[0m\n\u001B[1;32m--> 396\u001B[1;33m       raise AttributeError(\"\"\"\n\u001B[0m\u001B[0;32m    397\u001B[0m         \u001B[1;34m'{}'\u001B[0m \u001B[0mobject\u001B[0m \u001B[0mhas\u001B[0m \u001B[0mno\u001B[0m \u001B[0mattribute\u001B[0m \u001B[1;34m'{}'\u001B[0m\u001B[1;33m.\u001B[0m\u001B[1;33m\u001B[0m\u001B[1;33m\u001B[0m\u001B[0m\n\u001B[0;32m    398\u001B[0m         \u001B[0mIf\u001B[0m \u001B[0myou\u001B[0m \u001B[0mare\u001B[0m \u001B[0mlooking\u001B[0m \u001B[1;32mfor\u001B[0m \u001B[0mnumpy\u001B[0m\u001B[1;33m-\u001B[0m\u001B[0mrelated\u001B[0m \u001B[0mmethods\u001B[0m\u001B[1;33m,\u001B[0m \u001B[0mplease\u001B[0m \u001B[0mrun\u001B[0m \u001B[0mthe\u001B[0m \u001B[0mfollowing\u001B[0m\u001B[1;33m:\u001B[0m\u001B[1;33m\u001B[0m\u001B[1;33m\u001B[0m\u001B[0m\n",
      "\u001B[1;31mAttributeError\u001B[0m: \n        'Tensor' object has no attribute 'astype'.\n        If you are looking for numpy-related methods, please run the following:\n        import tensorflow.python.ops.numpy_ops.np_config\n        np_config.enable_numpy_behavior()"
     ]
    }
   ]
  },
  {
   "cell_type": "code",
   "metadata": {
    "colab_type": "code",
    "id": "KbIB3zaiKEru",
    "colab": {}
   },
   "source": [
    "print(out_tflite)"
   ],
   "execution_count": null,
   "outputs": []
  },
  {
   "cell_type": "code",
   "metadata": {
    "id": "1vOhJRnCU7Nf",
    "colab_type": "code",
    "colab": {}
   },
   "source": [
    "index_to_label[out_tflite_argmax]"
   ],
   "execution_count": null,
   "outputs": []
  },
  {
   "cell_type": "markdown",
   "metadata": {
    "colab_type": "text",
    "id": "xNaUWgivuatL"
   },
   "source": [
    "### Run streaming inference with TFLite"
   ]
  },
  {
   "cell_type": "code",
   "metadata": {
    "colab_type": "code",
    "id": "csQWZo4BuqEB",
    "colab": {}
   },
   "source": [
    "# path = os.path.join(train_dir, 'tflite_stream_state_external')\n",
    "# tflite_model_name = 'stream_state_external.tflite'\n",
    "\n",
    "tflite_streaming_model = utils.model_to_tflite(sess, model_non_stream, flags, Modes.STREAM_EXTERNAL_STATE_INFERENCE)"
   ],
   "execution_count": null,
   "outputs": []
  },
  {
   "cell_type": "code",
   "metadata": {
    "colab_type": "code",
    "id": "a4wAZqYouyob",
    "colab": {}
   },
   "source": [
    "# with tf.io.gfile.Open(os.path.join(path, tflite_model_name), 'rb') as f:\n",
    "#   model_content = f.read()\n",
    "\n",
    "interpreter = tf.lite.Interpreter(model_content=tflite_streaming_model)\n",
    "interpreter.allocate_tensors()\n",
    "\n",
    "input_details = interpreter.get_input_details()\n",
    "output_details = interpreter.get_output_details()\n",
    "\n",
    "inputs = []\n",
    "for s in range(len(input_details)):\n",
    "  inputs.append(np.zeros(input_details[s]['shape'], dtype=np.float32))"
   ],
   "execution_count": null,
   "outputs": []
  },
  {
   "cell_type": "code",
   "metadata": {
    "colab_type": "code",
    "id": "03QCq1nfVUWW",
    "colab": {}
   },
   "source": [
    "input_details[0]['shape']"
   ],
   "execution_count": null,
   "outputs": []
  },
  {
   "cell_type": "code",
   "metadata": {
    "colab_type": "code",
    "id": "WKudF1Zyud2-",
    "colab": {}
   },
   "source": [
    "reset_state = True\n",
    "\n",
    "# before processing new test sequence we can reset model state\n",
    "# if we reset model state then it is not real streaming mode\n",
    "if reset_state:\n",
    "  for s in range(len(input_details)):\n",
    "    print(input_details[s]['shape'])\n",
    "    inputs[s] = np.zeros(input_details[s]['shape'], dtype=np.float32)\n",
    "\n",
    "start = 0\n",
    "end = flags.window_stride_samples\n",
    "while end <= input_data.shape[1]:\n",
    "  stream_update = input_data[:, start:end]\n",
    "  stream_update = stream_update.astype(np.float32)\n",
    "\n",
    "  # update indexes of streamed updates\n",
    "  start = end\n",
    "  end = start + flags.window_stride_samples\n",
    "\n",
    "  # set input audio data (by default input data at index 0)\n",
    "  interpreter.set_tensor(input_details[0]['index'], stream_update)\n",
    "\n",
    "  # set input states (index 1...)\n",
    "  for s in range(1, len(input_details)):\n",
    "    interpreter.set_tensor(input_details[s]['index'], inputs[s])\n",
    "\n",
    "  # run inference\n",
    "  interpreter.invoke()\n",
    "\n",
    "  # get output: classification\n",
    "  out_tflite = interpreter.get_tensor(output_details[0]['index'])\n",
    "  #print(start / 16000.0, np.argmax(out_tflite), np.max(out_tflite))\n",
    "\n",
    "  # get output states and set it back to input states\n",
    "  # which will be fed in the next inference cycle\n",
    "  for s in range(1, len(input_details)):\n",
    "    # The function `get_tensor()` returns a copy of the tensor data.\n",
    "    # Use `tensor()` in order to get a pointer to the tensor.\n",
    "    inputs[s] = interpreter.get_tensor(output_details[s]['index'])\n",
    "\n",
    "  out_tflite_argmax = np.argmax(out_tflite)\n",
    "out_tflite_argmax"
   ],
   "execution_count": null,
   "outputs": []
  },
  {
   "cell_type": "code",
   "metadata": {
    "colab_type": "code",
    "id": "yWy_BiepFFSX",
    "colab": {}
   },
   "source": [
    "print(out_tflite)"
   ],
   "execution_count": null,
   "outputs": []
  },
  {
   "cell_type": "code",
   "metadata": {
    "colab_type": "code",
    "id": "QSa7AX1GvReF",
    "colab": {}
   },
   "source": [
    "index_to_label[out_tflite_argmax]"
   ],
   "execution_count": null,
   "outputs": []
  },
  {
   "cell_type": "code",
   "metadata": {
    "id": "WVQZXLyDU7N3",
    "colab_type": "code",
    "colab": {}
   },
   "source": [
    ""
   ],
   "execution_count": null,
   "outputs": []
  }
 ]
}