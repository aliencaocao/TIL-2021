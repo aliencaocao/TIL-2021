{
 "cells": [
  {
   "cell_type": "code",
   "execution_count": 8,
   "metadata": {
    "collapsed": true
   },
   "outputs": [
    {
     "name": "stdout",
     "output_type": "stream",
     "text": [
      "Wrong! Prediction: s1_test_0002.wav,falcon, answer: s1_test_0002.wav,four\n",
      "Wrong! Prediction: s1_test_0027.wav,two, answer: s1_test_0027.wav,eight\n",
      "Wrong! Prediction: s1_test_0055.wav,falcon, answer: s1_test_0055.wav,one\n",
      "Wrong! Prediction: s1_test_0065.wav,falcon, answer: s1_test_0065.wav,nine\n",
      "Wrong! Prediction: s1_test_0116.wav,two, answer: s1_test_0116.wav,falcon\n",
      "Wrong! Prediction: s1_test_0192.wav,one, answer: s1_test_0192.wav,five\n",
      "Wrong! Prediction: s1_test_0266.wav,nine, answer: s1_test_0266.wav,bird\n",
      "Wrong! Prediction: s1_test_0306.wav,five, answer: s1_test_0306.wav,falcon\n",
      "Wrong! Prediction: s1_test_0333.wav,two, answer: s1_test_0333.wav,eight\n",
      "Wrong! Prediction: s1_test_0337.wav,snake, answer: s1_test_0337.wav,five\n",
      "Wrong! Prediction: s1_test_0340.wav,falcon, answer: s1_test_0340.wav,snake\n",
      "Wrong! Prediction: s1_test_0362.wav,one, answer: s1_test_0362.wav,nine\n",
      "Wrong! Prediction: s1_test_0451.wav,four, answer: s1_test_0451.wav,five\n",
      "Wrong! Prediction: s1_test_0460.wav,two, answer: s1_test_0460.wav,bird\n",
      "Wrong! Prediction: s1_test_0491.wav,six, answer: s1_test_0491.wav,seven\n",
      "Wrong! Prediction: s1_test_0493.wav,bird, answer: s1_test_0493.wav,nine\n",
      "Wrong! Prediction: s1_test_0505.wav,two, answer: s1_test_0505.wav,zero\n",
      "Wrong! Prediction: s1_test_0512.wav,two, answer: s1_test_0512.wav,four\n",
      "Wrong! Prediction: s1_test_0515.wav,snake, answer: s1_test_0515.wav,falcon\n",
      "Wrong! Prediction: s1_test_0526.wav,eight, answer: s1_test_0526.wav,five\n",
      "Wrong! Prediction: s1_test_0541.wav,seven, answer: s1_test_0541.wav,two\n",
      "Wrong! Prediction: s1_test_0560.wav,snake, answer: s1_test_0560.wav,six\n",
      "Wrong! Prediction: s1_test_0589.wav,bird, answer: s1_test_0589.wav,one\n",
      "Accuracy: 96.45608628659477%\n"
     ]
    }
   ],
   "source": [
    "with open('best results\\94.45\\challenge_2_team_Tensor is not flowing.csv', 'r') as pred, open('answers.csv', 'r') as ans:\n",
    "    pred = pred.read().splitlines()\n",
    "    ans = ans.read().splitlines()\n",
    "    wrong = 0\n",
    "    for i in range(len(ans)):\n",
    "        if pred[i] != ans[i]:\n",
    "            print(f'Wrong! Prediction: {pred[i]}, answer: {ans[i]}')\n",
    "            wrong += 1\n",
    "    else:\n",
    "        print(f'Accuracy: {(1 - (wrong/len(ans))) * 100}%')\n"
   ]
  }
 ],
 "metadata": {
  "kernelspec": {
   "display_name": "Python 3",
   "language": "python",
   "name": "python3"
  },
  "language_info": {
   "codemirror_mode": {
    "name": "ipython",
    "version": 2
   },
   "file_extension": ".py",
   "mimetype": "text/x-python",
   "name": "python",
   "nbconvert_exporter": "python",
   "pygments_lexer": "ipython2",
   "version": "2.7.6"
  }
 },
 "nbformat": 4,
 "nbformat_minor": 0
}