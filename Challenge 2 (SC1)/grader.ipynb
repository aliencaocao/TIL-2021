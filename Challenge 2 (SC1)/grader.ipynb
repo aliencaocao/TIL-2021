{
 "cells": [
  {
   "cell_type": "code",
   "execution_count": 11,
   "metadata": {
    "collapsed": true
   },
   "outputs": [
    {
     "name": "stdout",
     "output_type": "stream",
     "text": [
      "Wrong! Prediction: s1_test_0015.wav,nine, answer: s1_test_0015.wav,five\n",
      "Wrong! Prediction: s1_test_0027.wav,snake, answer: s1_test_0027.wav,eight\n",
      "Wrong! Prediction: s1_test_0048.wav,nine, answer: s1_test_0048.wav,five\n",
      "Wrong! Prediction: s1_test_0049.wav,eight, answer: s1_test_0049.wav,six\n",
      "Wrong! Prediction: s1_test_0075.wav,snake, answer: s1_test_0075.wav,falcon\n",
      "Wrong! Prediction: s1_test_0090.wav,three, answer: s1_test_0090.wav,bird\n",
      "Wrong! Prediction: s1_test_0112.wav,three, answer: s1_test_0112.wav,nine\n",
      "Wrong! Prediction: s1_test_0134.wav,bird, answer: s1_test_0134.wav,nine\n",
      "Wrong! Prediction: s1_test_0163.wav,two, answer: s1_test_0163.wav,zero\n",
      "Wrong! Prediction: s1_test_0178.wav,one, answer: s1_test_0178.wav,zero\n",
      "Wrong! Prediction: s1_test_0180.wav,falcon, answer: s1_test_0180.wav,bird\n",
      "Wrong! Prediction: s1_test_0204.wav,falcon, answer: s1_test_0204.wav,five\n",
      "Wrong! Prediction: s1_test_0216.wav,three, answer: s1_test_0216.wav,snake\n",
      "Wrong! Prediction: s1_test_0268.wav,five, answer: s1_test_0268.wav,falcon\n",
      "Wrong! Prediction: s1_test_0281.wav,snake, answer: s1_test_0281.wav,seven\n",
      "Wrong! Prediction: s1_test_0292.wav,snake, answer: s1_test_0292.wav,three\n",
      "Wrong! Prediction: s1_test_0295.wav,eight, answer: s1_test_0295.wav,snake\n",
      "Wrong! Prediction: s1_test_0296.wav,snake, answer: s1_test_0296.wav,zero\n",
      "Wrong! Prediction: s1_test_0307.wav,two, answer: s1_test_0307.wav,eight\n",
      "Wrong! Prediction: s1_test_0309.wav,snake, answer: s1_test_0309.wav,eight\n",
      "Wrong! Prediction: s1_test_0313.wav,seven, answer: s1_test_0313.wav,zero\n",
      "Wrong! Prediction: s1_test_0322.wav,bird, answer: s1_test_0322.wav,two\n",
      "Wrong! Prediction: s1_test_0337.wav,eight, answer: s1_test_0337.wav,five\n",
      "Wrong! Prediction: s1_test_0380.wav,two, answer: s1_test_0380.wav,six\n",
      "Wrong! Prediction: s1_test_0418.wav,seven, answer: s1_test_0418.wav,three\n",
      "Wrong! Prediction: s1_test_0422.wav,six, answer: s1_test_0422.wav,falcon\n",
      "Wrong! Prediction: s1_test_0432.wav,five, answer: s1_test_0432.wav,bird\n",
      "Wrong! Prediction: s1_test_0449.wav,eight, answer: s1_test_0449.wav,two\n",
      "Wrong! Prediction: s1_test_0460.wav,snake, answer: s1_test_0460.wav,bird\n",
      "Wrong! Prediction: s1_test_0491.wav,six, answer: s1_test_0491.wav,seven\n",
      "Wrong! Prediction: s1_test_0493.wav,one, answer: s1_test_0493.wav,nine\n",
      "Wrong! Prediction: s1_test_0512.wav,six, answer: s1_test_0512.wav,four\n",
      "Wrong! Prediction: s1_test_0528.wav,eight, answer: s1_test_0528.wav,snake\n",
      "Wrong! Prediction: s1_test_0531.wav,six, answer: s1_test_0531.wav,bird\n",
      "Wrong! Prediction: s1_test_0535.wav,two, answer: s1_test_0535.wav,zero\n",
      "Wrong! Prediction: s1_test_0540.wav,bird, answer: s1_test_0540.wav,three\n",
      "Wrong! Prediction: s1_test_0550.wav,five, answer: s1_test_0550.wav,four\n",
      "Wrong! Prediction: s1_test_0561.wav,falcon, answer: s1_test_0561.wav,seven\n",
      "Wrong! Prediction: s1_test_0587.wav,four, answer: s1_test_0587.wav,nine\n",
      "Wrong! Prediction: s1_test_0589.wav,five, answer: s1_test_0589.wav,one\n",
      "Wrong! Prediction: s1_test_0592.wav,two, answer: s1_test_0592.wav,six\n",
      "Wrong! Prediction: s1_test_0610.wav,two, answer: s1_test_0610.wav,nine\n",
      "Wrong! Prediction: s1_test_0615.wav,four, answer: s1_test_0615.wav,two\n",
      "Wrong! Prediction: s1_test_0638.wav,three, answer: s1_test_0638.wav,nine\n",
      "Wrong! Prediction: s1_test_0639.wav,six, answer: s1_test_0639.wav,snake\n",
      "Wrong! Prediction: s1_test_0640.wav,six, answer: s1_test_0640.wav,eight\n",
      "Accuracy: 92.91217257318952%\n"
     ]
    }
   ],
   "source": [
    "with open('challenge_2_team_Tensor is not flowing.csv', 'r') as pred, open('answers.csv', 'r') as ans:\n",
    "    pred = pred.read().splitlines()\n",
    "    ans = ans.read().splitlines()\n",
    "    wrong = 0\n",
    "    for i in range(len(ans)):\n",
    "        if pred[i] != ans[i]:\n",
    "            print(f'Wrong! Prediction: {pred[i]}, answer: {ans[i]}')\n",
    "            wrong += 1\n",
    "    else:\n",
    "        print(f'Accuracy: {(1 - (wrong/len(ans))) * 100}%')\n"
   ]
  }
 ],
 "metadata": {
  "kernelspec": {
   "display_name": "Python 3",
   "language": "python",
   "name": "python3"
  },
  "language_info": {
   "codemirror_mode": {
    "name": "ipython",
    "version": 2
   },
   "file_extension": ".py",
   "mimetype": "text/x-python",
   "name": "python",
   "nbconvert_exporter": "python",
   "pygments_lexer": "ipython2",
   "version": "2.7.6"
  }
 },
 "nbformat": 4,
 "nbformat_minor": 0
}