{
 "cells": [
  {
   "cell_type": "code",
   "execution_count": 1,
   "metadata": {
    "collapsed": true
   },
   "outputs": [
    {
     "name": "stdout",
     "output_type": "stream",
     "text": [
      "Wrong! Prediction: s1_test_0028.wav,two, answer: s1_test_0028.wav,four\n",
      "Wrong! Prediction: s1_test_0048.wav,eight, answer: s1_test_0048.wav,five\n",
      "Wrong! Prediction: s1_test_0109.wav,three, answer: s1_test_0109.wav,eight\n",
      "Wrong! Prediction: s1_test_0134.wav,bird, answer: s1_test_0134.wav,nine\n",
      "Wrong! Prediction: s1_test_0163.wav,two, answer: s1_test_0163.wav,zero\n",
      "Wrong! Prediction: s1_test_0204.wav,nine, answer: s1_test_0204.wav,five\n",
      "Wrong! Prediction: s1_test_0281.wav,six, answer: s1_test_0281.wav,seven\n",
      "Wrong! Prediction: s1_test_0293.wav,four, answer: s1_test_0293.wav,two\n",
      "Wrong! Prediction: s1_test_0295.wav,eight, answer: s1_test_0295.wav,snake\n",
      "Wrong! Prediction: s1_test_0296.wav,six, answer: s1_test_0296.wav,zero\n",
      "Wrong! Prediction: s1_test_0337.wav,three, answer: s1_test_0337.wav,five\n",
      "Wrong! Prediction: s1_test_0346.wav,one, answer: s1_test_0346.wav,four\n",
      "Wrong! Prediction: s1_test_0401.wav,three, answer: s1_test_0401.wav,eight\n",
      "Wrong! Prediction: s1_test_0402.wav,two, answer: s1_test_0402.wav,four\n",
      "Wrong! Prediction: s1_test_0411.wav,one, answer: s1_test_0411.wav,nine\n",
      "Wrong! Prediction: s1_test_0415.wav,three, answer: s1_test_0415.wav,eight\n",
      "Wrong! Prediction: s1_test_0418.wav,two, answer: s1_test_0418.wav,three\n",
      "Wrong! Prediction: s1_test_0451.wav,four, answer: s1_test_0451.wav,five\n",
      "Wrong! Prediction: s1_test_0460.wav,seven, answer: s1_test_0460.wav,bird\n",
      "Wrong! Prediction: s1_test_0491.wav,six, answer: s1_test_0491.wav,seven\n",
      "Wrong! Prediction: s1_test_0493.wav,one, answer: s1_test_0493.wav,nine\n",
      "Wrong! Prediction: s1_test_0499.wav,eight, answer: s1_test_0499.wav,snake\n",
      "Wrong! Prediction: s1_test_0526.wav,three, answer: s1_test_0526.wav,five\n",
      "Wrong! Prediction: s1_test_0531.wav,nine, answer: s1_test_0531.wav,bird\n",
      "Wrong! Prediction: s1_test_0535.wav,two, answer: s1_test_0535.wav,zero\n",
      "Wrong! Prediction: s1_test_0541.wav,six, answer: s1_test_0541.wav,two\n",
      "Wrong! Prediction: s1_test_0561.wav,falcon, answer: s1_test_0561.wav,seven\n",
      "Wrong! Prediction: s1_test_0582.wav,nine, answer: s1_test_0582.wav,five\n",
      "Wrong! Prediction: s1_test_0589.wav,five, answer: s1_test_0589.wav,one\n",
      "Wrong! Prediction: s1_test_0638.wav,bird, answer: s1_test_0638.wav,nine\n",
      "Wrong! Prediction: s1_test_0639.wav,bird, answer: s1_test_0639.wav,snake\n",
      "Accuracy: 95.22342064714945%\n"
     ]
    }
   ],
   "source": [
    "with open('challenge_2_team_Tensor is not flowing.csv', 'r') as pred, open('answers.csv', 'r') as ans:\n",
    "    pred = pred.read().splitlines()\n",
    "    ans = ans.read().splitlines()\n",
    "    wrong = 0\n",
    "    for i in range(len(ans)):\n",
    "        if pred[i] != ans[i]:\n",
    "            print(f'Wrong! Prediction: {pred[i]}, answer: {ans[i]}')\n",
    "            wrong += 1\n",
    "    else:\n",
    "        print(f'Accuracy: {(1 - (wrong/len(ans))) * 100}%')"
   ]
  },
  {
   "cell_type": "code",
   "execution_count": null,
   "outputs": [],
   "source": [
    "'''422 idk wtf\n",
    "0048 five or nine??\n",
    "'''"
   ],
   "metadata": {
    "collapsed": false,
    "pycharm": {
     "name": "#%%\n"
    }
   }
  }
 ],
 "metadata": {
  "kernelspec": {
   "display_name": "Python 3",
   "language": "python",
   "name": "python3"
  },
  "language_info": {
   "codemirror_mode": {
    "name": "ipython",
    "version": 2
   },
   "file_extension": ".py",
   "mimetype": "text/x-python",
   "name": "python",
   "nbconvert_exporter": "python",
   "pygments_lexer": "ipython2",
   "version": "2.7.6"
  }
 },
 "nbformat": 4,
 "nbformat_minor": 0
}