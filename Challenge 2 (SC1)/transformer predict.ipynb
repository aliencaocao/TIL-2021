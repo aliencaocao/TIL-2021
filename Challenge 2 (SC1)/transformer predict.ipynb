{
 "cells": [
  {
   "cell_type": "code",
   "execution_count": 3,
   "metadata": {
    "collapsed": true
   },
   "outputs": [
    {
     "name": "stdout",
     "output_type": "stream",
     "text": [
      "snake\n",
      "Test set size 649\n",
      "Predicting...\n",
      "                    0       1\n",
      "0    s1_test_0000.wav   seven\n",
      "1    s1_test_0001.wav  falcon\n",
      "2    s1_test_0002.wav    four\n",
      "3    s1_test_0003.wav   snake\n",
      "4    s1_test_0004.wav    four\n",
      "..                ...     ...\n",
      "644  s1_test_0644.wav   seven\n",
      "645  s1_test_0645.wav     one\n",
      "646  s1_test_0646.wav    five\n",
      "647  s1_test_0647.wav  falcon\n",
      "648  s1_test_0648.wav     two\n",
      "\n",
      "[649 rows x 2 columns]\n"
     ]
    }
   ],
   "source": [
    "import numpy as np\n",
    "import tensorflow as tf\n",
    "import pandas as pd\n",
    "import os\n",
    "\n",
    "# TODO: REMOVE 0 AND 1 FROM TRANSFORMER!! Current best acc: 94.3\n",
    "labels = {\n",
    "    0: '_silence_',\n",
    "    1: 'unknown',\n",
    "    2: 'bird',\n",
    "    3: 'eight',\n",
    "    4: 'falcon',\n",
    "    5: 'five',\n",
    "    6: 'four',\n",
    "    7: 'nine',\n",
    "    8: 'one',\n",
    "    9: 'seven',\n",
    "    10: 'six',\n",
    "    11: 'snake',\n",
    "    12: 'three',\n",
    "    13: 'two',\n",
    "    14: 'zero',\n",
    "    }\n",
    "\n",
    "# Load the TFLite model and allocate tensors.\n",
    "interpreter = tf.lite.Interpreter(model_path=\"models_data_v2_12_labels/96.456/tflite_non_stream/non_stream.tflite\")\n",
    "interpreter.allocate_tensors()\n",
    "\n",
    "# Get input and output tensors.\n",
    "input_details = interpreter.get_input_details()\n",
    "output_details = interpreter.get_output_details()\n",
    "\n",
    "audio, _ = tf.audio.decode_wav(tf.io.read_file('s1_test_release/s1_test_0003.wav'))  # snake\n",
    "waveform = tf.expand_dims(tf.squeeze(audio, axis=-1), axis=-2)\n",
    "# Test the model on random input data.\n",
    "input_shape = input_details[0]['shape']\n",
    "input_data = waveform\n",
    "interpreter.set_tensor(input_details[0]['index'], input_data)\n",
    "\n",
    "interpreter.invoke()\n",
    "\n",
    "# The function `get_tensor()` returns a copy of the tensor data.\n",
    "# Use `tensor()` in order to get a pointer to the tensor.\n",
    "output_data = interpreter.get_tensor(output_details[0]['index'])\n",
    "softmax_output = tf.nn.softmax(output_data)[0].numpy()\n",
    "print(labels[np.argmax(softmax_output)])\n",
    "\n",
    "predicted_labels, filenames = [], []\n",
    "test_files = tf.io.gfile.glob('s1_test_release_normalized/*')\n",
    "print('Test set size', len(test_files))\n",
    "i = 0\n",
    "print('Predicting...')\n",
    "for audio in test_files:\n",
    "    audio, _ = tf.audio.decode_wav(tf.io.read_file(audio))\n",
    "    waveform = tf.expand_dims(tf.squeeze(audio, axis=-1), axis=-2)\n",
    "    filenames.append(os.path.basename(test_files[i].replace('_normalized', '')))\n",
    "    interpreter.set_tensor(input_details[0]['index'], waveform)\n",
    "    interpreter.invoke()\n",
    "    output_data = interpreter.get_tensor(output_details[0]['index'])\n",
    "    softmax_output = tf.nn.softmax(output_data)[0].numpy()\n",
    "    predicted_labels.append(labels[np.argmax(softmax_output)])\n",
    "    i+=1\n",
    "\n",
    "df = pd.DataFrame(list(zip(filenames, predicted_labels)))\n",
    "df.to_csv('challenge_2_team_Tensor is not flowing.csv', index=False, header=False)  # tested submission file format passed\n",
    "print(df)\n"
   ]
  }
 ],
 "metadata": {
  "kernelspec": {
   "display_name": "Python 3",
   "language": "python",
   "name": "python3"
  },
  "language_info": {
   "codemirror_mode": {
    "name": "ipython",
    "version": 2
   },
   "file_extension": ".py",
   "mimetype": "text/x-python",
   "name": "python",
   "nbconvert_exporter": "python",
   "pygments_lexer": "ipython2",
   "version": "2.7.6"
  }
 },
 "nbformat": 4,
 "nbformat_minor": 0
}