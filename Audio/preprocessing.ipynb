{
 "cells": [
  {
   "cell_type": "code",
   "execution_count": 4,
   "metadata": {
    "collapsed": true
   },
   "outputs": [],
   "source": [
    "import os, sys, shutil\n",
    "from random import random\n",
    "from glob import glob\n",
    "from pydub import AudioSegment"
   ]
  },
  {
   "cell_type": "code",
   "execution_count": 5,
   "outputs": [],
   "source": [
    "def split_train_test(dataPath):\n",
    "    for root, dirs, files in os.walk(dataPath):\n",
    "        for name in files:\n",
    "            randomNum = random()\n",
    "            if randomNum <= 0.2:\n",
    "                os.makedirs('val\\\\'+root+'\\\\', exist_ok=True)\n",
    "                shutil.move(root+'\\\\'+name, 'val\\\\'+root+'\\\\')\n",
    "split_train_test('challenge_6_training_dataset_normalized/')"
   ],
   "metadata": {
    "collapsed": false,
    "pycharm": {
     "name": "#%%\n"
    }
   }
  },
  {
   "cell_type": "code",
   "execution_count": null,
   "outputs": [],
   "source": [
    "def match_target_amplitude(sound, target_dBFS):\n",
    "    change_in_dBFS = target_dBFS - sound.dBFS\n",
    "    return sound.apply_gain(change_in_dBFS)\n",
    "\n",
    "for path in glob(\"**/*.wav\", recursive=True):\n",
    "  split_path = path.split(\"/\")\n",
    "  if split_path[0].endswith(\"normalized\"):\n",
    "    continue\n",
    "\n",
    "  normalized_sound_dir = split_path[0] + \"_normalized\"\n",
    "  if not os.path.exists(normalized_sound_dir):\n",
    "    os.mkdir(normalized_sound_dir)\n",
    "\n",
    "  # create subdirectories if file has label\n",
    "  if not split_path[1].endswith(\".wav\"):\n",
    "    normalized_sound_label_subdir = f\"{normalized_sound_dir}/{split_path[1]}\"\n",
    "    if not os.path.exists(normalized_sound_label_subdir):\n",
    "      os.mkdir(normalized_sound_label_subdir)\n",
    "\n",
    "  sound = AudioSegment.from_file(path, \"wav\")\n",
    "  normalized_sound = match_target_amplitude(sound, -20.0)\n",
    "\n",
    "  normalized_sound_path = split_path[0] + \"_normalized/\" + '/'.join(split_path[1:])\n",
    "  normalized_sound_path = normalized_sound_path[:-4] + \"_normalized\" + normalized_sound_path[-4:]\n",
    "  normalized_sound.export(normalized_sound_path, format=\"wav\")"
   ],
   "metadata": {
    "collapsed": false,
    "pycharm": {
     "name": "#%%\n"
    }
   }
  }
 ],
 "metadata": {
  "kernelspec": {
   "display_name": "Python 3",
   "language": "python",
   "name": "python3"
  },
  "language_info": {
   "codemirror_mode": {
    "name": "ipython",
    "version": 2
   },
   "file_extension": ".py",
   "mimetype": "text/x-python",
   "name": "python",
   "nbconvert_exporter": "python",
   "pygments_lexer": "ipython2",
   "version": "2.7.6"
  }
 },
 "nbformat": 4,
 "nbformat_minor": 0
}