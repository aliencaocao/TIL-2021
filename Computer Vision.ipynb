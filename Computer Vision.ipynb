{
 "cells": [
  {
   "cell_type": "code",
   "execution_count": null,
   "metadata": {
    "collapsed": true
   },
   "outputs": [],
   "source": [
    "import sys, os, shutil\n",
    "import tensorflow as tf\n",
    "from tensorflow import keras\n",
    "from tensorflow.keras import layers\n",
    "from tensorflow.keras.layers import Input, Add, Dense, Activation, ZeroPadding2D, BatchNormalization, Flatten, Conv2D, GlobalAveragePooling2D, MaxPooling2D, Dropout\n",
    "from tensorflow.keras.layers.experimental.preprocessing import Rescaling, RandomFlip, RandomZoom, RandomContrast, RandomRotation\n",
    "from tensorflow.keras.preprocessing.image import ImageDataGenerator\n",
    "from tensorflow.keras.utils import plot_model\n",
    "import kerastuner as kt\n",
    "from random import random\n",
    "import pandas as pd\n",
    "import re\n",
    "physical_devices = tf.config.experimental.list_physical_devices('GPU')\n",
    "config = tf.config.experimental.set_memory_growth(physical_devices[0], True)\n",
    "print(f'Running on Python {sys.version}, Tensorflow {tf.__version__}.')"
   ]
  },
  {
   "cell_type": "code",
   "execution_count": null,
   "outputs": [],
   "source": [
    "# data loading config\n",
    "batch_size = 32\n",
    "img_height = 224\n",
    "img_width = 224\n",
    "dataPath = 'oxford_flowers_102'\n",
    "labels = 'inferred'\n",
    "label_mode = 'categorical'  # one hot encoding\n",
    "color_mode = 'rgb'\n",
    "shuffle = True\n",
    "seed = 69\n",
    "test_split = 0.2  # split into train and test (NOT val), 0-1\n",
    "AUTOTUNE = tf.data.AUTOTUNE\n",
    "\n",
    "train_df = pd.read_csv('image_to_label.csv', names=['picture', 'label'])\n",
    "with open('102_flower_labels.txt') as f:\n",
    "    regex = re.compile('[^a-zA-Z\\s-]')\n",
    "    classes=[]\n",
    "    for line in f:\n",
    "        classes += [regex.sub('', line.replace('\\'', '').strip())]\n",
    "\n",
    "\n",
    "def split_data(dataPath):\n",
    "    for root, dirs, files in os.walk(dataPath):\n",
    "        for name in files:\n",
    "            randomNum = random()\n",
    "            row = train_df.iloc[train_df.index[train_df['picture'] == name]]\n",
    "            if randomNum <= test_split:\n",
    "                os.makedirs('test\\\\'+classes[row.label.tolist()[0]-1]+'\\\\', exist_ok=True)\n",
    "                shutil.move(root+'\\\\'+name, 'test\\\\'+classes[row.label.tolist()[0]-1]+'\\\\')\n",
    "            elif test_split< randomNum <= test_split + test_split * (1-test_split):\n",
    "                os.makedirs('val\\\\'+classes[row.label.tolist()[0]-1]+'\\\\', exist_ok=True)\n",
    "                shutil.move(root+'\\\\'+name, 'val\\\\'+classes[row.label.tolist()[0]-1]+'\\\\')\n",
    "            else:\n",
    "                os.makedirs('train\\\\'+classes[row.label.tolist()[0]-1]+'\\\\', exist_ok=True)\n",
    "                shutil.move(root+'\\\\'+name, 'train\\\\'+classes[row.label.tolist()[0]-1]+'\\\\')\n",
    "\n",
    "# split_data(dataPath)  # Only need to run this once\n",
    "\n",
    "train_datagen = ImageDataGenerator( # Do 0-1 scaling as a layer so that saved model includes it\n",
    "    rotation_range=20, width_shift_range=0.2,\n",
    "    height_shift_range=0.2, brightness_range=(-0.2, 0.2), shear_range=0.2, zoom_range=0.2,\n",
    "    channel_shift_range=0.2, fill_mode='nearest', horizontal_flip=True, vertical_flip=True)\n",
    "\n",
    "\n",
    "print('Training data:')\n",
    "# NOT USING GENERATOR AS IT DOES NOT WORK YET\n",
    "train_generator = train_datagen.flow_from_directory('train', target_size=(img_height, img_width), batch_size=batch_size,\n",
    "                                                    color_mode=color_mode, class_mode=label_mode, shuffle=shuffle, seed=seed)\n",
    "train = keras.preprocessing.image_dataset_from_directory('train', labels=labels, label_mode=label_mode,\n",
    "color_mode=color_mode, shuffle=shuffle, seed=seed, image_size=(img_height, img_width), batch_size=batch_size)\n",
    "train_class_names = train.class_names\n",
    "\n",
    "print('\\nValidation data:')\n",
    "val = keras.preprocessing.image_dataset_from_directory('val', labels=labels, label_mode=label_mode,\n",
    "color_mode=color_mode, shuffle=shuffle, seed=seed, image_size=(img_height, img_width), batch_size=batch_size)\n",
    "val_class_names = val.class_names\n",
    "\n",
    "print('\\nTesting data:')\n",
    "test = keras.preprocessing.image_dataset_from_directory('test', labels=labels, label_mode=label_mode,\n",
    "color_mode=color_mode, shuffle=shuffle, seed=seed, image_size=(img_height, img_width), batch_size=batch_size)\n",
    "test_class_names = test.class_names\n",
    "\n",
    "train = train.cache().prefetch(buffer_size=AUTOTUNE)\n",
    "val = val.cache().prefetch(buffer_size=AUTOTUNE)\n",
    "test = test.cache().prefetch(buffer_size=AUTOTUNE)\n",
    "\n",
    "assert list(train_generator.class_indices.keys()) == train_class_names == val_class_names == test_class_names, 'Classes mismatch!'\n",
    "classes = list(train_generator.class_indices.keys())\n",
    "print('\\nClasses:', classes)"
   ],
   "metadata": {
    "collapsed": false,
    "pycharm": {
     "name": "#%%\n"
    }
   }
  },
  {
   "cell_type": "code",
   "execution_count": null,
   "outputs": [],
   "source": [
    "# Resnet 50 pretrained\n",
    "xInput = Input([img_height, img_width, 3], dtype=tf.uint8)\n",
    "x = tf.cast(xInput, tf.float32)\n",
    "x = keras.applications.resnet.preprocess_input(x)\n",
    "resnet50 = tf.keras.applications.resnet50.ResNet50(include_top=False, weights='imagenet')\n",
    "x = resnet50(x, trainable=False)\n",
    "x = Flatten()(x)\n",
    "x = Dropout(0.5)(x)\n",
    "x = Dense(512)(x)\n",
    "x = BatchNormalization(epsilon=1.001e-5)(x)\n",
    "x = Activation('relu')(x)\n",
    "x = Dense(512)(x)\n",
    "x = BatchNormalization(epsilon=1.001e-5)(x)\n",
    "x = Activation('relu')(x)\n",
    "xOutput = Dense(len(classes))(x)  # no activation as loss using logit=True\n",
    "model = tf.keras.models.Model(xInput, xOutput)"
   ],
   "metadata": {
    "collapsed": false,
    "pycharm": {
     "name": "#%%\n"
    }
   }
  },
  {
   "cell_type": "code",
   "execution_count": null,
   "outputs": [],
   "source": [
    "opt = keras.optimizers.Adam(learning_rate=3e-4, epsilon=1e-6)\n",
    "opt = keras.optimizers.SGD(learning_rate=0.1, momentum=0.9)\n",
    "loss = tf.keras.losses.CategoricalCrossentropy(from_logits=True, label_smoothing=0.1)\n",
    "reg = keras.regularizers.L2(1e-5)\n",
    "epoch = 100\n",
    "metrics = ['accuracy']\n",
    "callbacks = [\n",
    "    tf.keras.callbacks.EarlyStopping(monitor='val_accuracy', min_delta=0, patience=10, verbose=1,\n",
    "                                     mode='auto', baseline=None, restore_best_weights=True),\n",
    "    tf.keras.callbacks.ModelCheckpoint('./best_model',monitor='val_accuracy',save_best_only=True),\n",
    "    tf.keras.callbacks.ReduceLROnPlateau(monitor='val_accuracy', factor=0.1, patience=3, verbose=1)\n",
    "]\n",
    "model.compile(optimizer=opt, loss=loss, metrics=metrics)\n",
    "model.summary()\n",
    "history = model.fit(train, epochs=epoch, validation_data=val, callbacks=callbacks, use_multiprocessing=True, verbose=1)"
   ],
   "metadata": {
    "collapsed": false,
    "pycharm": {
     "name": "#%%\n"
    }
   }
  },
  {
   "cell_type": "code",
   "execution_count": null,
   "outputs": [],
   "source": [
    "plot_model(model, show_shapes=True, show_dtype=True, show_layer_names=True, to_file='cv_model.png')\n",
    "model.evaluate(test)\n",
    "model.save('oxford_flower_102')\n"
   ],
   "metadata": {
    "collapsed": false,
    "pycharm": {
     "name": "#%%\n"
    }
   }
  }
 ],
 "metadata": {
  "kernelspec": {
   "display_name": "Python 3",
   "language": "python",
   "name": "python3"
  },
  "language_info": {
   "codemirror_mode": {
    "name": "ipython",
    "version": 2
   },
   "file_extension": ".py",
   "mimetype": "text/x-python",
   "name": "python",
   "nbconvert_exporter": "python",
   "pygments_lexer": "ipython2",
   "version": "2.7.6"
  }
 },
 "nbformat": 4,
 "nbformat_minor": 0
}